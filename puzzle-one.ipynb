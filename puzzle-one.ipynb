{
 "cells": [
  {
   "cell_type": "code",
   "execution_count": 1,
   "metadata": {},
   "outputs": [],
   "source": [
    "from pathlib import Path\n",
    "import pandas as pd \n",
    "import numpy as np"
   ]
  },
  {
   "cell_type": "code",
   "execution_count": 38,
   "metadata": {},
   "outputs": [],
   "source": [
    "# mapping each alphabet to its appropriate keypad number (could be done better, first version so a bit rough around the edges)\n",
    "phone_keys:dict[str, int] = {\n",
    "    \"A\": 2,\n",
    "    \"B\": 2,\n",
    "    \"C\": 2,\n",
    "    \"D\": 3,\n",
    "    \"E\": 3,\n",
    "    \"F\": 3,\n",
    "    \"G\": 4,\n",
    "    \"H\": 4,\n",
    "    \"I\": 4,\n",
    "    \"J\": 5,\n",
    "    \"K\": 5,\n",
    "    \"L\": 5,\n",
    "    \"M\": 6,\n",
    "    \"N\": 6,\n",
    "    \"O\": 6,\n",
    "    \"P\": 7,\n",
    "    \"Q\": 7,\n",
    "    \"R\": 7,\n",
    "    \"S\": 7,\n",
    "    \"T\": 8,\n",
    "    \"U\": 8,\n",
    "    \"V\": 8,\n",
    "    \"W\": 9,\n",
    "    \"X\": 9,\n",
    "    \"Y\": 9,\n",
    "    \"Z\": 9\n",
    "}"
   ]
  },
  {
   "cell_type": "code",
   "execution_count": 11,
   "metadata": {},
   "outputs": [],
   "source": [
    "# setting up the dataset path\n",
    "dataset_path = Path().absolute() / \"Data\""
   ]
  },
  {
   "cell_type": "code",
   "execution_count": 12,
   "metadata": {},
   "outputs": [],
   "source": [
    "# function to read a dataframe\n",
    "def retrieve_data(path: Path) -> pd.DataFrame:\n",
    "\n",
    "    return pd.read_csv(path)"
   ]
  },
  {
   "cell_type": "code",
   "execution_count": null,
   "metadata": {},
   "outputs": [],
   "source": [
    "# function to convert phone numbers into their appropriate keypad number form\n",
    "def return_phone_form (last_name: str) -> str:\n",
    "\n",
    "    last_name = last_name.upper()\n",
    "\n",
    "    phone_form: str = \"\"\n",
    "\n",
    "    for letter in last_name:\n",
    "\n",
    "        phone_form += str(phone_keys[letter])\n",
    "    \n",
    "    return phone_form\n"
   ]
  },
  {
   "cell_type": "code",
   "execution_count": 13,
   "metadata": {},
   "outputs": [],
   "source": [
    "customers = retrieve_data(dataset_path/\"noahs-customers.csv\")"
   ]
  },
  {
   "cell_type": "code",
   "execution_count": 15,
   "metadata": {},
   "outputs": [],
   "source": [
    "customers['last_name'] = customers['name']"
   ]
  },
  {
   "cell_type": "code",
   "execution_count": 22,
   "metadata": {},
   "outputs": [],
   "source": [
    "customers['last_name'] = customers['name'].apply(lambda x: x.split(' ')[-1])"
   ]
  },
  {
   "cell_type": "code",
   "execution_count": 25,
   "metadata": {},
   "outputs": [],
   "source": [
    "customers['last_name_len'] = customers['last_name'].apply(lambda x: len(x))\n",
    "customers_of_interest = customers[customers['last_name_len'] == 10]"
   ]
  },
  {
   "cell_type": "code",
   "execution_count": 27,
   "metadata": {},
   "outputs": [
    {
     "name": "stderr",
     "output_type": "stream",
     "text": [
      "/var/folders/z6/mhv044k52r38pf74f9w6gkjc0000gn/T/ipykernel_36036/3746993353.py:1: SettingWithCopyWarning: \n",
      "A value is trying to be set on a copy of a slice from a DataFrame.\n",
      "Try using .loc[row_indexer,col_indexer] = value instead\n",
      "\n",
      "See the caveats in the documentation: https://pandas.pydata.org/pandas-docs/stable/user_guide/indexing.html#returning-a-view-versus-a-copy\n",
      "  customers_of_interest['phone'] = customers_of_interest['phone'].apply(lambda x: x.replace('-', ''))\n"
     ]
    }
   ],
   "source": [
    "customers_of_interest['phone'] = customers_of_interest['phone'].apply(lambda x: x.replace('-', ''))"
   ]
  },
  {
   "cell_type": "code",
   "execution_count": 34,
   "metadata": {},
   "outputs": [
    {
     "name": "stderr",
     "output_type": "stream",
     "text": [
      "/var/folders/z6/mhv044k52r38pf74f9w6gkjc0000gn/T/ipykernel_36036/4284804814.py:1: SettingWithCopyWarning: \n",
      "A value is trying to be set on a copy of a slice from a DataFrame.\n",
      "Try using .loc[row_indexer,col_indexer] = value instead\n",
      "\n",
      "See the caveats in the documentation: https://pandas.pydata.org/pandas-docs/stable/user_guide/indexing.html#returning-a-view-versus-a-copy\n",
      "  customers_of_interest['phone_form'] = customers_of_interest['last_name'].apply(return_phone_form)\n"
     ]
    }
   ],
   "source": [
    "customers_of_interest['phone_form'] = customers_of_interest['last_name'].apply(return_phone_form)"
   ]
  },
  {
   "cell_type": "code",
   "execution_count": 36,
   "metadata": {},
   "outputs": [
    {
     "data": {
      "text/html": [
       "<div>\n",
       "<style scoped>\n",
       "    .dataframe tbody tr th:only-of-type {\n",
       "        vertical-align: middle;\n",
       "    }\n",
       "\n",
       "    .dataframe tbody tr th {\n",
       "        vertical-align: top;\n",
       "    }\n",
       "\n",
       "    .dataframe thead th {\n",
       "        text-align: right;\n",
       "    }\n",
       "</style>\n",
       "<table border=\"1\" class=\"dataframe\">\n",
       "  <thead>\n",
       "    <tr style=\"text-align: right;\">\n",
       "      <th></th>\n",
       "      <th>customerid</th>\n",
       "      <th>name</th>\n",
       "      <th>address</th>\n",
       "      <th>citystatezip</th>\n",
       "      <th>birthdate</th>\n",
       "      <th>phone</th>\n",
       "      <th>timezone</th>\n",
       "      <th>lat</th>\n",
       "      <th>long</th>\n",
       "      <th>last_name</th>\n",
       "      <th>last_name_len</th>\n",
       "      <th>phone_form</th>\n",
       "    </tr>\n",
       "  </thead>\n",
       "  <tbody>\n",
       "    <tr>\n",
       "      <th>207</th>\n",
       "      <td>1208</td>\n",
       "      <td>Sam Tannenbaum</td>\n",
       "      <td>221 Banker St</td>\n",
       "      <td>Brooklyn, NY 11222</td>\n",
       "      <td>1994-09-13</td>\n",
       "      <td>8266362286</td>\n",
       "      <td>America/New_York</td>\n",
       "      <td>40.7257</td>\n",
       "      <td>-73.9555</td>\n",
       "      <td>Tannenbaum</td>\n",
       "      <td>10</td>\n",
       "      <td>8266362286</td>\n",
       "    </tr>\n",
       "  </tbody>\n",
       "</table>\n",
       "</div>"
      ],
      "text/plain": [
       "     customerid            name        address        citystatezip  \\\n",
       "207        1208  Sam Tannenbaum  221 Banker St  Brooklyn, NY 11222   \n",
       "\n",
       "      birthdate       phone          timezone      lat     long   last_name  \\\n",
       "207  1994-09-13  8266362286  America/New_York  40.7257 -73.9555  Tannenbaum   \n",
       "\n",
       "     last_name_len  phone_form  \n",
       "207             10  8266362286  "
      ]
     },
     "execution_count": 36,
     "metadata": {},
     "output_type": "execute_result"
    }
   ],
   "source": [
    "customers_of_interest[customers_of_interest['phone_form'] == customers_of_interest['phone']]"
   ]
  },
  {
   "cell_type": "code",
   "execution_count": null,
   "metadata": {},
   "outputs": [],
   "source": []
  }
 ],
 "metadata": {
  "kernelspec": {
   "display_name": "Python 3",
   "language": "python",
   "name": "python3"
  },
  "language_info": {
   "codemirror_mode": {
    "name": "ipython",
    "version": 3
   },
   "file_extension": ".py",
   "mimetype": "text/x-python",
   "name": "python",
   "nbconvert_exporter": "python",
   "pygments_lexer": "ipython3",
   "version": "3.11.6"
  }
 },
 "nbformat": 4,
 "nbformat_minor": 2
}

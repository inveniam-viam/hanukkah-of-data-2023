{
 "cells": [
  {
   "cell_type": "code",
   "execution_count": 44,
   "metadata": {},
   "outputs": [],
   "source": [
    "from pathlib import Path\n",
    "import pandas as pd \n",
    "import numpy as np"
   ]
  },
  {
   "cell_type": "code",
   "execution_count": 45,
   "metadata": {},
   "outputs": [],
   "source": [
    "dataset_path: Path = Path().absolute() / \"Data\""
   ]
  },
  {
   "cell_type": "code",
   "execution_count": 46,
   "metadata": {},
   "outputs": [],
   "source": [
    "def retrieve_data(path: Path) -> pd.DataFrame:\n",
    "    \"\"\"Function that returns the requested .csv file in a pandas dataframe\"\"\"\n",
    "    return pd.read_csv(path)"
   ]
  },
  {
   "cell_type": "code",
   "execution_count": 47,
   "metadata": {},
   "outputs": [],
   "source": [
    "# Reading in the various dataframes\n",
    "\n",
    "customers = retrieve_data(dataset_path / \"noahs-customers.csv\")\n",
    "orders = retrieve_data(dataset_path / \"noahs-orders.csv\")\n",
    "order_items = retrieve_data(dataset_path / \"noahs-orders_items.csv\")\n",
    "products = retrieve_data(dataset_path / \"noahs-products.csv\")"
   ]
  },
  {
   "cell_type": "code",
   "execution_count": 48,
   "metadata": {},
   "outputs": [],
   "source": [
    "# converting the existing birthdate string into a pandas datetime object\n",
    "customers['birthdate'] = pd.to_datetime(customers['birthdate'])"
   ]
  },
  {
   "cell_type": "code",
   "execution_count": 49,
   "metadata": {},
   "outputs": [],
   "source": [
    "customers['birth_year'] = customers['birthdate'].apply(lambda x: x.year)\n",
    "\n",
    "# 2023 is the most recent year of the Rabbit\n",
    "customers['birth_rabbit'] = 2023 - customers['birth_year']\n",
    "# deducing whether a customer was born in a Year of the Rabbit or not\n",
    "rabbit_customers = customers[customers['birth_rabbit'] % 12 == 0]\n"
   ]
  },
  {
   "cell_type": "code",
   "execution_count": 50,
   "metadata": {},
   "outputs": [],
   "source": [
    "# cancer zodiac runs from June 21 to July 22\n",
    "# logical condition to filter for this\n",
    "is_within_range = ((rabbit_customers['birthdate'].dt.month == 6) & (rabbit_customers['birthdate'].dt.day >= 21)) | ((rabbit_customers['birthdate'].dt.month == 7) & (rabbit_customers['birthdate'].dt.day <= 22))\n"
   ]
  },
  {
   "cell_type": "code",
   "execution_count": 51,
   "metadata": {},
   "outputs": [],
   "source": [
    "rabbit_cancer_customers = rabbit_customers[is_within_range]"
   ]
  },
  {
   "cell_type": "code",
   "execution_count": 52,
   "metadata": {},
   "outputs": [],
   "source": [
    "rabbit_cancer_customers.reset_index(drop = True, inplace = True)"
   ]
  },
  {
   "cell_type": "code",
   "execution_count": 53,
   "metadata": {},
   "outputs": [],
   "source": [
    "rabbit_cancer_customers = rabbit_cancer_customers[['customerid', 'name', 'birthdate','phone', 'citystatezip']]"
   ]
  },
  {
   "cell_type": "code",
   "execution_count": 54,
   "metadata": {},
   "outputs": [],
   "source": [
    "rabbit_cancer_customers = rabbit_cancer_customers.merge(orders[['orderid', 'customerid', 'ordered', 'total']], on = \"customerid\", how = \"left\")"
   ]
  },
  {
   "cell_type": "code",
   "execution_count": 55,
   "metadata": {},
   "outputs": [],
   "source": [
    "rabbit_cancer_customers.dropna(inplace = True)"
   ]
  },
  {
   "cell_type": "code",
   "execution_count": 56,
   "metadata": {},
   "outputs": [],
   "source": [
    "rabbit_cancer_customers['ordered'] = pd.to_datetime(rabbit_cancer_customers['ordered'])"
   ]
  },
  {
   "cell_type": "code",
   "execution_count": 57,
   "metadata": {},
   "outputs": [],
   "source": [
    "rabbit_cancer_customers = rabbit_cancer_customers[rabbit_cancer_customers['ordered'].dt.year == 2017]"
   ]
  },
  {
   "cell_type": "code",
   "execution_count": 58,
   "metadata": {},
   "outputs": [],
   "source": [
    "rabbit_cancer_customers = rabbit_cancer_customers.drop_duplicates(subset = ['name', 'birthdate', 'citystatezip'])"
   ]
  },
  {
   "cell_type": "code",
   "execution_count": 59,
   "metadata": {},
   "outputs": [
    {
     "data": {
      "text/html": [
       "<div>\n",
       "<style scoped>\n",
       "    .dataframe tbody tr th:only-of-type {\n",
       "        vertical-align: middle;\n",
       "    }\n",
       "\n",
       "    .dataframe tbody tr th {\n",
       "        vertical-align: top;\n",
       "    }\n",
       "\n",
       "    .dataframe thead th {\n",
       "        text-align: right;\n",
       "    }\n",
       "</style>\n",
       "<table border=\"1\" class=\"dataframe\">\n",
       "  <thead>\n",
       "    <tr style=\"text-align: right;\">\n",
       "      <th></th>\n",
       "      <th>customerid</th>\n",
       "      <th>name</th>\n",
       "      <th>birthdate</th>\n",
       "      <th>phone</th>\n",
       "      <th>citystatezip</th>\n",
       "      <th>orderid</th>\n",
       "      <th>ordered</th>\n",
       "      <th>total</th>\n",
       "    </tr>\n",
       "  </thead>\n",
       "  <tbody>\n",
       "    <tr>\n",
       "      <th>281</th>\n",
       "      <td>2550</td>\n",
       "      <td>Robert Morton</td>\n",
       "      <td>1999-07-08</td>\n",
       "      <td>917-288-9635</td>\n",
       "      <td>Jamaica, NY 11435</td>\n",
       "      <td>18146.0</td>\n",
       "      <td>2017-07-22 11:27:48</td>\n",
       "      <td>3.08</td>\n",
       "    </tr>\n",
       "  </tbody>\n",
       "</table>\n",
       "</div>"
      ],
      "text/plain": [
       "     customerid           name  birthdate         phone       citystatezip  \\\n",
       "281        2550  Robert Morton 1999-07-08  917-288-9635  Jamaica, NY 11435   \n",
       "\n",
       "     orderid             ordered  total  \n",
       "281  18146.0 2017-07-22 11:27:48   3.08  "
      ]
     },
     "execution_count": 59,
     "metadata": {},
     "output_type": "execute_result"
    }
   ],
   "source": [
    "# from puzzle two, we know that Joshua Peterson lives in Jamaica, NY. It says in the problem that the rug was given to someone in the same neighborhood.\n",
    "rabbit_cancer_customers[rabbit_cancer_customers['citystatezip'].str.contains('Jamaica')]"
   ]
  },
  {
   "cell_type": "code",
   "execution_count": null,
   "metadata": {},
   "outputs": [],
   "source": []
  }
 ],
 "metadata": {
  "kernelspec": {
   "display_name": "Python 3",
   "language": "python",
   "name": "python3"
  },
  "language_info": {
   "codemirror_mode": {
    "name": "ipython",
    "version": 3
   },
   "file_extension": ".py",
   "mimetype": "text/x-python",
   "name": "python",
   "nbconvert_exporter": "python",
   "pygments_lexer": "ipython3",
   "version": "3.11.6"
  }
 },
 "nbformat": 4,
 "nbformat_minor": 2
}

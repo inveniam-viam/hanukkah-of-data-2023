{
 "cells": [
  {
   "cell_type": "code",
   "execution_count": 1,
   "metadata": {},
   "outputs": [],
   "source": [
    "from pathlib import Path \n",
    "import pandas as pd \n",
    "import numpy as np"
   ]
  },
  {
   "cell_type": "code",
   "execution_count": 2,
   "metadata": {},
   "outputs": [],
   "source": [
    "dataset_path = Path().absolute() / \"Data\""
   ]
  },
  {
   "cell_type": "code",
   "execution_count": 3,
   "metadata": {},
   "outputs": [],
   "source": [
    "def retrieve_data(path: Path) -> pd.DataFrame:\n",
    "\n",
    "    return pd.read_csv(path)"
   ]
  },
  {
   "cell_type": "code",
   "execution_count": 4,
   "metadata": {},
   "outputs": [],
   "source": [
    "customers = retrieve_data(dataset_path/\"noahs-customers.csv\")\n",
    "orders = retrieve_data(dataset_path/\"noahs-orders.csv\")\n",
    "order_items = retrieve_data(dataset_path/\"noahs-orders_items.csv\")\n",
    "cafe_items = retrieve_data(dataset_path/\"noahs-products.csv\")"
   ]
  },
  {
   "cell_type": "markdown",
   "metadata": {},
   "source": [
    "The below few cells are used to merge the dataframes initialized in the above cell to get information at the level of \n",
    "order id - order year - customer id - order items - customer name"
   ]
  },
  {
   "cell_type": "code",
   "execution_count": 5,
   "metadata": {},
   "outputs": [],
   "source": [
    "order_particulars = order_items[['orderid', 'sku']].merge(cafe_items[['sku', 'desc']], on = \"sku\", how = \"left\")"
   ]
  },
  {
   "cell_type": "code",
   "execution_count": 6,
   "metadata": {},
   "outputs": [],
   "source": [
    "order_particulars = orders[['orderid', 'customerid', 'ordered']].merge(order_particulars, on = \"orderid\", how = \"left\")"
   ]
  },
  {
   "cell_type": "code",
   "execution_count": 7,
   "metadata": {},
   "outputs": [],
   "source": [
    "customers['first_name'] = customers['name'].apply(lambda x: x.split(' ')[0])\n",
    "customers['last_name'] = customers['name'].apply(lambda x: x.split(' ')[-1])"
   ]
  },
  {
   "cell_type": "code",
   "execution_count": 8,
   "metadata": {},
   "outputs": [],
   "source": [
    "customer_info = customers[['customerid', 'name', 'first_name', 'last_name']]"
   ]
  },
  {
   "cell_type": "code",
   "execution_count": 9,
   "metadata": {},
   "outputs": [],
   "source": [
    "order_particulars = order_particulars.merge(customer_info, how = \"left\", on = \"customerid\")"
   ]
  },
  {
   "cell_type": "code",
   "execution_count": 10,
   "metadata": {},
   "outputs": [],
   "source": [
    "order_particulars['year'] = order_particulars['ordered'].apply(lambda x: x.split('-')[0])"
   ]
  },
  {
   "cell_type": "code",
   "execution_count": 11,
   "metadata": {},
   "outputs": [],
   "source": [
    "order_particulars = order_particulars[order_particulars['year'] == '2017']"
   ]
  },
  {
   "cell_type": "code",
   "execution_count": 12,
   "metadata": {},
   "outputs": [],
   "source": [
    "possible_contractors = set()"
   ]
  },
  {
   "cell_type": "code",
   "execution_count": 13,
   "metadata": {},
   "outputs": [],
   "source": [
    "for index, row in order_particulars.iterrows():\n",
    "\n",
    "    if row['first_name'][0] == \"J\" and row['last_name'][0] == \"P\":\n",
    "        possible_contractors.add(row['name'])"
   ]
  },
  {
   "cell_type": "code",
   "execution_count": 14,
   "metadata": {},
   "outputs": [],
   "source": [
    "possible_contractors = list(possible_contractors)"
   ]
  },
  {
   "cell_type": "code",
   "execution_count": 15,
   "metadata": {},
   "outputs": [],
   "source": [
    "JP_customers_2017 = order_particulars[order_particulars['name'].isin(possible_contractors)]"
   ]
  },
  {
   "cell_type": "code",
   "execution_count": 16,
   "metadata": {},
   "outputs": [
    {
     "data": {
      "text/html": [
       "<div>\n",
       "<style scoped>\n",
       "    .dataframe tbody tr th:only-of-type {\n",
       "        vertical-align: middle;\n",
       "    }\n",
       "\n",
       "    .dataframe tbody tr th {\n",
       "        vertical-align: top;\n",
       "    }\n",
       "\n",
       "    .dataframe thead th {\n",
       "        text-align: right;\n",
       "    }\n",
       "</style>\n",
       "<table border=\"1\" class=\"dataframe\">\n",
       "  <thead>\n",
       "    <tr style=\"text-align: right;\">\n",
       "      <th></th>\n",
       "      <th>orderid</th>\n",
       "      <th>customerid</th>\n",
       "      <th>ordered</th>\n",
       "      <th>sku</th>\n",
       "      <th>desc</th>\n",
       "      <th>name</th>\n",
       "      <th>first_name</th>\n",
       "      <th>last_name</th>\n",
       "      <th>year</th>\n",
       "    </tr>\n",
       "  </thead>\n",
       "  <tbody>\n",
       "    <tr>\n",
       "      <th>12789</th>\n",
       "      <td>7459</td>\n",
       "      <td>1475</td>\n",
       "      <td>2017-04-05 11:42:15</td>\n",
       "      <td>DLI8820</td>\n",
       "      <td>Coffee, Drip</td>\n",
       "      <td>Joshua Peterson</td>\n",
       "      <td>Joshua</td>\n",
       "      <td>Peterson</td>\n",
       "      <td>2017</td>\n",
       "    </tr>\n",
       "    <tr>\n",
       "      <th>12791</th>\n",
       "      <td>7459</td>\n",
       "      <td>1475</td>\n",
       "      <td>2017-04-05 11:42:15</td>\n",
       "      <td>BKY1573</td>\n",
       "      <td>Sesame Bagel</td>\n",
       "      <td>Joshua Peterson</td>\n",
       "      <td>Joshua</td>\n",
       "      <td>Peterson</td>\n",
       "      <td>2017</td>\n",
       "    </tr>\n",
       "  </tbody>\n",
       "</table>\n",
       "</div>"
      ],
      "text/plain": [
       "       orderid  customerid              ordered      sku          desc  \\\n",
       "12789     7459        1475  2017-04-05 11:42:15  DLI8820  Coffee, Drip   \n",
       "12791     7459        1475  2017-04-05 11:42:15  BKY1573  Sesame Bagel   \n",
       "\n",
       "                  name first_name last_name  year  \n",
       "12789  Joshua Peterson     Joshua  Peterson  2017  \n",
       "12791  Joshua Peterson     Joshua  Peterson  2017  "
      ]
     },
     "execution_count": 16,
     "metadata": {},
     "output_type": "execute_result"
    }
   ],
   "source": [
    "JP_customers_2017[JP_customers_2017['desc'].str.contains('Coffee|Bagel', case = False, na = False)]"
   ]
  },
  {
   "cell_type": "code",
   "execution_count": 17,
   "metadata": {},
   "outputs": [
    {
     "data": {
      "text/html": [
       "<div>\n",
       "<style scoped>\n",
       "    .dataframe tbody tr th:only-of-type {\n",
       "        vertical-align: middle;\n",
       "    }\n",
       "\n",
       "    .dataframe tbody tr th {\n",
       "        vertical-align: top;\n",
       "    }\n",
       "\n",
       "    .dataframe thead th {\n",
       "        text-align: right;\n",
       "    }\n",
       "</style>\n",
       "<table border=\"1\" class=\"dataframe\">\n",
       "  <thead>\n",
       "    <tr style=\"text-align: right;\">\n",
       "      <th></th>\n",
       "      <th>customerid</th>\n",
       "      <th>name</th>\n",
       "      <th>address</th>\n",
       "      <th>citystatezip</th>\n",
       "      <th>birthdate</th>\n",
       "      <th>phone</th>\n",
       "      <th>timezone</th>\n",
       "      <th>lat</th>\n",
       "      <th>long</th>\n",
       "      <th>first_name</th>\n",
       "      <th>last_name</th>\n",
       "    </tr>\n",
       "  </thead>\n",
       "  <tbody>\n",
       "    <tr>\n",
       "      <th>474</th>\n",
       "      <td>1475</td>\n",
       "      <td>Joshua Peterson</td>\n",
       "      <td>100-75 148th St</td>\n",
       "      <td>Jamaica, NY 11435</td>\n",
       "      <td>1947-02-05</td>\n",
       "      <td>332-274-4185</td>\n",
       "      <td>America/New_York</td>\n",
       "      <td>40.70895</td>\n",
       "      <td>-73.80856</td>\n",
       "      <td>Joshua</td>\n",
       "      <td>Peterson</td>\n",
       "    </tr>\n",
       "  </tbody>\n",
       "</table>\n",
       "</div>"
      ],
      "text/plain": [
       "     customerid             name          address       citystatezip  \\\n",
       "474        1475  Joshua Peterson  100-75 148th St  Jamaica, NY 11435   \n",
       "\n",
       "      birthdate         phone          timezone       lat      long  \\\n",
       "474  1947-02-05  332-274-4185  America/New_York  40.70895 -73.80856   \n",
       "\n",
       "    first_name last_name  \n",
       "474     Joshua  Peterson  "
      ]
     },
     "execution_count": 17,
     "metadata": {},
     "output_type": "execute_result"
    }
   ],
   "source": [
    "customers[customers['customerid'] == 1475]"
   ]
  }
 ],
 "metadata": {
  "kernelspec": {
   "display_name": "Python 3",
   "language": "python",
   "name": "python3"
  },
  "language_info": {
   "codemirror_mode": {
    "name": "ipython",
    "version": 3
   },
   "file_extension": ".py",
   "mimetype": "text/x-python",
   "name": "python",
   "nbconvert_exporter": "python",
   "pygments_lexer": "ipython3",
   "version": "3.11.6"
  }
 },
 "nbformat": 4,
 "nbformat_minor": 2
}
